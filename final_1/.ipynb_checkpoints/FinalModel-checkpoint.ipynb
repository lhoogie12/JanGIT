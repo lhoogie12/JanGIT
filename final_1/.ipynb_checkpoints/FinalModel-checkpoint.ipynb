{
 "cells": [
  {
   "cell_type": "code",
   "execution_count": 1,
   "metadata": {},
   "outputs": [
    {
     "data": {
      "text/plain": [
       "'C:\\\\Users\\\\Jan\\\\DroneCourse\\\\JanGIT\\\\final_1'"
      ]
     },
     "execution_count": 1,
     "metadata": {},
     "output_type": "execute_result"
    }
   ],
   "source": [
    "import os\n",
    "os.getcwd()  # Get Working Directory"
   ]
  },
  {
   "cell_type": "code",
   "execution_count": 2,
   "metadata": {},
   "outputs": [
    {
     "name": "stderr",
     "output_type": "stream",
     "text": [
      "Using TensorFlow backend.\n"
     ]
    },
    {
     "name": "stdout",
     "output_type": "stream",
     "text": [
      "Wall time: 7.13 s\n"
     ]
    }
   ],
   "source": [
    "%%time\n",
    "import os\n",
    "os.environ['KERAS_BACKEND'] = 'tensorflow'\n",
    "import keras"
   ]
  },
  {
   "cell_type": "code",
   "execution_count": 3,
   "metadata": {},
   "outputs": [],
   "source": [
    "from keras.preprocessing.image import ImageDataGenerator\n",
    "from keras.models import Sequential\n",
    "from keras.layers import Conv2D, MaxPooling2D\n",
    "from keras.layers import Activation, Dropout, Flatten, Dense\n",
    "from keras import backend as K"
   ]
  },
  {
   "cell_type": "code",
   "execution_count": 4,
   "metadata": {},
   "outputs": [],
   "source": [
    "# dimensions of our images.\n",
    "img_width, img_height = 150, 150"
   ]
  },
  {
   "cell_type": "code",
   "execution_count": 32,
   "metadata": {},
   "outputs": [],
   "source": [
    "\n",
    "train_data_dir = 'data/train'\n",
    "validation_data_dir = 'data/validation'\n",
    "nb_train_samples = 413\n",
    "nb_validation_samples = 100\n",
    "epochs = 50\n",
    "batch_size = 30"
   ]
  },
  {
   "cell_type": "code",
   "execution_count": 33,
   "metadata": {},
   "outputs": [],
   "source": [
    "if K.image_data_format() == 'channels_first':\n",
    "    input_shape = (3, img_width, img_height)\n",
    "else:\n",
    "    input_shape = (img_width, img_height, 3)"
   ]
  },
  {
   "cell_type": "code",
   "execution_count": 34,
   "metadata": {},
   "outputs": [],
   "source": [
    "train_datagen = ImageDataGenerator(\n",
    "    rescale=1. / 255)"
   ]
  },
  {
   "cell_type": "code",
   "execution_count": 35,
   "metadata": {},
   "outputs": [],
   "source": [
    "test_datagen = ImageDataGenerator(rescale=1. / 255)"
   ]
  },
  {
   "cell_type": "code",
   "execution_count": 36,
   "metadata": {},
   "outputs": [
    {
     "name": "stdout",
     "output_type": "stream",
     "text": [
      "Found 826 images belonging to 2 classes.\n"
     ]
    }
   ],
   "source": [
    "training = train_datagen.flow_from_directory(\n",
    "    train_data_dir,\n",
    "    target_size=(img_width, img_height),\n",
    "    batch_size=batch_size,\n",
    "    class_mode='binary')\n",
    "x,y = training.next()"
   ]
  },
  {
   "cell_type": "code",
   "execution_count": 37,
   "metadata": {},
   "outputs": [
    {
     "data": {
      "text/plain": [
       "array([1., 1., 1., 0., 0., 1., 0., 0., 0., 0., 1., 0., 1., 1., 0., 1., 0.,\n",
       "       0., 0., 0., 0., 1., 1., 0., 1., 1., 0., 0., 1., 0.], dtype=float32)"
      ]
     },
     "execution_count": 37,
     "metadata": {},
     "output_type": "execute_result"
    }
   ],
   "source": [
    "y"
   ]
  },
  {
   "cell_type": "code",
   "execution_count": 38,
   "metadata": {},
   "outputs": [
    {
     "name": "stdout",
     "output_type": "stream",
     "text": [
      "Found 200 images belonging to 2 classes.\n"
     ]
    }
   ],
   "source": [
    "validation = test_datagen.flow_from_directory(\n",
    "    validation_data_dir,\n",
    "    target_size=(img_width, img_height),\n",
    "    batch_size=batch_size,\n",
    "    class_mode='binary')\n",
    "\n",
    "x,y = validation.next()"
   ]
  },
  {
   "cell_type": "code",
   "execution_count": 39,
   "metadata": {},
   "outputs": [
    {
     "data": {
      "text/plain": [
       "array([1., 0., 1., 1., 1., 0., 0., 1., 1., 1., 1., 0., 0., 0., 0., 1., 1.,\n",
       "       1., 1., 1., 0., 0., 1., 1., 0., 1., 1., 0., 0., 0.], dtype=float32)"
      ]
     },
     "execution_count": 39,
     "metadata": {},
     "output_type": "execute_result"
    }
   ],
   "source": [
    "y"
   ]
  },
  {
   "cell_type": "code",
   "execution_count": 40,
   "metadata": {},
   "outputs": [],
   "source": [
    "model = Sequential()\n",
    "model.add(Conv2D(32, (3, 3), input_shape=input_shape))\n",
    "model.add(Activation('relu'))\n",
    "model.add(MaxPooling2D(pool_size=(2, 2)))\n",
    "model.add(Dropout(0.2))\n",
    "#model.add(Conv2D(32, (3, 3)))\n",
    "#model.add(Activation('relu'))\n",
    "#model.add(MaxPooling2D(pool_size=(2, 2)))\n",
    "\n",
    "#model.add(Conv2D(64, (3, 3)))\n",
    "#model.add(Activation('relu'))\n",
    "#model.add(MaxPooling2D(pool_size=(2, 2)))\n",
    "\n",
    "model.add(Flatten())\n",
    "model.add(Dense(64))\n",
    "model.add(Activation('relu'))\n",
    "model.add(Dense(1))\n",
    "model.add(Activation('sigmoid'))"
   ]
  },
  {
   "cell_type": "code",
   "execution_count": 41,
   "metadata": {},
   "outputs": [],
   "source": [
    "model.compile(loss='binary_crossentropy',\n",
    "              optimizer='sgd',\n",
    "              metrics=['accuracy'])"
   ]
  },
  {
   "cell_type": "code",
   "execution_count": 42,
   "metadata": {},
   "outputs": [
    {
     "name": "stdout",
     "output_type": "stream",
     "text": [
      "Epoch 1/50\n",
      "13/13 [==============================] - 8s 651ms/step - loss: 0.9075 - accuracy: 0.5027 - val_loss: 0.6876 - val_accuracy: 0.5333\n",
      "Epoch 2/50\n",
      "13/13 [==============================] - 8s 613ms/step - loss: 0.6915 - accuracy: 0.5026 - val_loss: 0.6874 - val_accuracy: 0.5778\n",
      "Epoch 3/50\n",
      "13/13 [==============================] - 8s 622ms/step - loss: 0.6876 - accuracy: 0.5612 - val_loss: 0.6814 - val_accuracy: 0.6625\n",
      "Epoch 4/50\n",
      "13/13 [==============================] - 8s 619ms/step - loss: 0.6873 - accuracy: 0.5744 - val_loss: 0.6797 - val_accuracy: 0.6333\n",
      "Epoch 5/50\n",
      "13/13 [==============================] - 8s 614ms/step - loss: 0.6902 - accuracy: 0.5532 - val_loss: 0.6958 - val_accuracy: 0.5625\n",
      "Epoch 6/50\n",
      "13/13 [==============================] - 8s 619ms/step - loss: 0.6765 - accuracy: 0.6333 - val_loss: 0.6715 - val_accuracy: 0.5778\n",
      "Epoch 7/50\n",
      "13/13 [==============================] - 8s 620ms/step - loss: 0.6630 - accuracy: 0.6205 - val_loss: 0.6398 - val_accuracy: 0.6000\n",
      "Epoch 8/50\n",
      "13/13 [==============================] - 8s 641ms/step - loss: 0.6825 - accuracy: 0.5564 - val_loss: 0.7101 - val_accuracy: 0.5667\n",
      "Epoch 9/50\n",
      "13/13 [==============================] - 8s 596ms/step - loss: 0.6600 - accuracy: 0.6215 - val_loss: 0.6484 - val_accuracy: 0.6444\n",
      "Epoch 10/50\n",
      "13/13 [==============================] - 8s 623ms/step - loss: 0.6700 - accuracy: 0.5974 - val_loss: 0.6250 - val_accuracy: 0.6000\n",
      "Epoch 11/50\n",
      "13/13 [==============================] - 8s 631ms/step - loss: 0.6500 - accuracy: 0.6564 - val_loss: 0.6635 - val_accuracy: 0.6111\n",
      "Epoch 12/50\n",
      "13/13 [==============================] - 8s 611ms/step - loss: 0.6603 - accuracy: 0.6117 - val_loss: 0.6561 - val_accuracy: 0.5875\n",
      "Epoch 13/50\n",
      "13/13 [==============================] - 8s 626ms/step - loss: 0.6572 - accuracy: 0.6026 - val_loss: 0.6767 - val_accuracy: 0.6333\n",
      "Epoch 14/50\n",
      "13/13 [==============================] - 8s 616ms/step - loss: 0.6441 - accuracy: 0.6462 - val_loss: 0.6747 - val_accuracy: 0.5625\n",
      "Epoch 15/50\n",
      "13/13 [==============================] - 8s 599ms/step - loss: 0.6356 - accuracy: 0.6383 - val_loss: 0.7032 - val_accuracy: 0.7000\n",
      "Epoch 16/50\n",
      "13/13 [==============================] - 8s 645ms/step - loss: 0.6566 - accuracy: 0.6513 - val_loss: 0.6457 - val_accuracy: 0.6444\n",
      "Epoch 17/50\n",
      "13/13 [==============================] - 8s 606ms/step - loss: 0.6318 - accuracy: 0.6463 - val_loss: 0.6663 - val_accuracy: 0.6500\n",
      "Epoch 18/50\n",
      "13/13 [==============================] - 8s 634ms/step - loss: 0.6203 - accuracy: 0.6744 - val_loss: 0.5609 - val_accuracy: 0.7222\n",
      "Epoch 19/50\n",
      "13/13 [==============================] - 8s 601ms/step - loss: 0.6558 - accuracy: 0.6516 - val_loss: 0.6281 - val_accuracy: 0.5250\n",
      "Epoch 20/50\n",
      "13/13 [==============================] - 8s 645ms/step - loss: 0.6141 - accuracy: 0.6846 - val_loss: 0.6281 - val_accuracy: 0.5667\n",
      "Epoch 21/50\n",
      "13/13 [==============================] - 9s 715ms/step - loss: 0.6496 - accuracy: 0.6117 - val_loss: 0.6015 - val_accuracy: 0.5875\n",
      "Epoch 22/50\n",
      "13/13 [==============================] - 9s 668ms/step - loss: 0.6171 - accuracy: 0.6702 - val_loss: 0.6543 - val_accuracy: 0.6667\n",
      "Epoch 23/50\n",
      "13/13 [==============================] - 8s 616ms/step - loss: 0.5848 - accuracy: 0.7154 - val_loss: 0.6847 - val_accuracy: 0.6222\n",
      "Epoch 24/50\n",
      "13/13 [==============================] - 8s 630ms/step - loss: 0.5969 - accuracy: 0.6821 - val_loss: 0.6901 - val_accuracy: 0.7250\n",
      "Epoch 25/50\n",
      "13/13 [==============================] - 8s 625ms/step - loss: 0.6071 - accuracy: 0.6872 - val_loss: 0.6122 - val_accuracy: 0.7111\n",
      "Epoch 26/50\n",
      "13/13 [==============================] - 8s 605ms/step - loss: 0.5534 - accuracy: 0.7287 - val_loss: 0.5946 - val_accuracy: 0.6625\n",
      "Epoch 27/50\n",
      "13/13 [==============================] - 8s 629ms/step - loss: 0.5793 - accuracy: 0.7051 - val_loss: 0.6989 - val_accuracy: 0.6778\n",
      "Epoch 28/50\n",
      "13/13 [==============================] - 8s 601ms/step - loss: 0.6308 - accuracy: 0.6543 - val_loss: 0.6956 - val_accuracy: 0.6750\n",
      "Epoch 29/50\n",
      "13/13 [==============================] - 8s 618ms/step - loss: 0.5559 - accuracy: 0.7207 - val_loss: 0.6789 - val_accuracy: 0.7778\n",
      "Epoch 30/50\n",
      "13/13 [==============================] - 8s 643ms/step - loss: 0.5903 - accuracy: 0.7154 - val_loss: 0.5963 - val_accuracy: 0.6333\n",
      "Epoch 31/50\n",
      "13/13 [==============================] - 8s 649ms/step - loss: 0.5566 - accuracy: 0.6897 - val_loss: 0.8200 - val_accuracy: 0.4625\n",
      "Epoch 32/50\n",
      "13/13 [==============================] - 8s 601ms/step - loss: 0.6301 - accuracy: 0.6968 - val_loss: 0.5839 - val_accuracy: 0.7667\n",
      "Epoch 33/50\n",
      "13/13 [==============================] - 8s 630ms/step - loss: 0.5819 - accuracy: 0.7231 - val_loss: 0.6056 - val_accuracy: 0.6750\n",
      "Epoch 34/50\n",
      "13/13 [==============================] - 8s 605ms/step - loss: 0.5901 - accuracy: 0.6995 - val_loss: 0.5455 - val_accuracy: 0.7111\n",
      "Epoch 35/50\n",
      "13/13 [==============================] - 8s 643ms/step - loss: 0.5758 - accuracy: 0.7077 - val_loss: 0.4683 - val_accuracy: 0.7000\n",
      "Epoch 36/50\n",
      "13/13 [==============================] - 9s 724ms/step - loss: 0.5551 - accuracy: 0.7074 - val_loss: 0.6146 - val_accuracy: 0.7444\n",
      "Epoch 37/50\n",
      "13/13 [==============================] - 8s 643ms/step - loss: 0.5302 - accuracy: 0.7487 - val_loss: 0.4159 - val_accuracy: 0.7444\n",
      "Epoch 38/50\n",
      "13/13 [==============================] - 8s 612ms/step - loss: 0.5196 - accuracy: 0.7473 - val_loss: 0.7761 - val_accuracy: 0.5375\n",
      "Epoch 39/50\n",
      "13/13 [==============================] - 8s 628ms/step - loss: 0.5830 - accuracy: 0.6872 - val_loss: 0.5959 - val_accuracy: 0.7556\n",
      "Epoch 40/50\n",
      "13/13 [==============================] - 8s 634ms/step - loss: 0.5407 - accuracy: 0.7256 - val_loss: 0.5508 - val_accuracy: 0.7375\n",
      "Epoch 41/50\n",
      "13/13 [==============================] - 8s 629ms/step - loss: 0.4976 - accuracy: 0.7500 - val_loss: 0.7646 - val_accuracy: 0.5333\n",
      "Epoch 42/50\n",
      "13/13 [==============================] - 8s 630ms/step - loss: 0.5251 - accuracy: 0.7667 - val_loss: 0.7882 - val_accuracy: 0.6875\n",
      "Epoch 43/50\n",
      "13/13 [==============================] - 8s 616ms/step - loss: 0.5182 - accuracy: 0.7447 - val_loss: 0.5835 - val_accuracy: 0.6444\n",
      "Epoch 44/50\n",
      "13/13 [==============================] - 8s 634ms/step - loss: 0.4969 - accuracy: 0.7641 - val_loss: 0.6642 - val_accuracy: 0.6556\n",
      "Epoch 45/50\n",
      "13/13 [==============================] - 8s 623ms/step - loss: 0.5171 - accuracy: 0.7367 - val_loss: 0.5233 - val_accuracy: 0.7375\n",
      "Epoch 46/50\n",
      "13/13 [==============================] - 8s 628ms/step - loss: 0.5444 - accuracy: 0.7606 - val_loss: 0.6803 - val_accuracy: 0.7889\n",
      "Epoch 47/50\n",
      "13/13 [==============================] - 8s 612ms/step - loss: 0.5168 - accuracy: 0.7538 - val_loss: 0.6192 - val_accuracy: 0.5750\n",
      "Epoch 48/50\n",
      "13/13 [==============================] - 8s 630ms/step - loss: 0.5147 - accuracy: 0.7394 - val_loss: 0.9017 - val_accuracy: 0.5222\n",
      "Epoch 49/50\n",
      "13/13 [==============================] - 8s 645ms/step - loss: 0.4507 - accuracy: 0.8051 - val_loss: 0.5761 - val_accuracy: 0.7500\n",
      "Epoch 50/50\n",
      "13/13 [==============================] - 9s 664ms/step - loss: 0.4849 - accuracy: 0.7590 - val_loss: 0.6458 - val_accuracy: 0.7778\n"
     ]
    }
   ],
   "source": [
    "history = model.fit_generator(\n",
    "    training,\n",
    "    steps_per_epoch=nb_train_samples // batch_size,\n",
    "    epochs=epochs,\n",
    "    validation_data=validation,\n",
    "    validation_steps=nb_validation_samples // batch_size)"
   ]
  },
  {
   "cell_type": "code",
   "execution_count": 43,
   "metadata": {},
   "outputs": [
    {
     "data": {
      "image/png": "[encoded data removed]",
      "text/plain": [
       "<Figure size 432x288 with 1 Axes>"
      ]
     },
     "metadata": {
      "needs_background": "light"
     },
     "output_type": "display_data"
    }
   ],
   "source": [
    "import matplotlib.pyplot as plt\n",
    "\n",
    "plt.plot(history.history['accuracy'])\n",
    "plt.plot(history.history['val_accuracy'])\n",
    "plt.title('Model accuracy')\n",
    "plt.ylabel('Accuracy')\n",
    "plt.xlabel('Epoch')\n",
    "plt.legend(['Train', 'Validate'], loc='upper left')\n",
    "plt.show()"
   ]
  },
  {
   "cell_type": "code",
   "execution_count": 18,
   "metadata": {},
   "outputs": [],
   "source": [
    "predictions = model.predict(validation)"
   ]
  },
  {
   "cell_type": "code",
   "execution_count": 19,
   "metadata": {},
   "outputs": [
    {
     "data": {
      "text/plain": [
       "array([[0.43298447],\n",
       "       [0.3504397 ],\n",
       "       [0.7048256 ],\n",
       "       [0.4035348 ],\n",
       "       [0.5388665 ],\n",
       "       [0.55102426],\n",
       "       [0.50716007],\n",
       "       [0.41314983],\n",
       "       [0.6246418 ],\n",
       "       [0.6480359 ],\n",
       "       [0.65705657],\n",
       "       [0.51380354],\n",
       "       [0.35453975],\n",
       "       [0.6146458 ],\n",
       "       [0.44693348],\n",
       "       [0.42819005],\n",
       "       [0.57671785],\n",
       "       [0.3531094 ],\n",
       "       [0.6152198 ],\n",
       "       [0.54689837],\n",
       "       [0.2955752 ],\n",
       "       [0.6896351 ],\n",
       "       [0.59981537],\n",
       "       [0.46768203],\n",
       "       [0.4859154 ],\n",
       "       [0.42693883],\n",
       "       [0.47727492],\n",
       "       [0.4426907 ],\n",
       "       [0.43100426],\n",
       "       [0.42790222],\n",
       "       [0.47548312],\n",
       "       [0.47372347],\n",
       "       [0.39791062],\n",
       "       [0.67495674],\n",
       "       [0.63650966],\n",
       "       [0.71883065],\n",
       "       [0.51897407],\n",
       "       [0.47647515],\n",
       "       [0.63648516],\n",
       "       [0.510904  ],\n",
       "       [0.72335446],\n",
       "       [0.46838972],\n",
       "       [0.710785  ],\n",
       "       [0.5898776 ],\n",
       "       [0.4963113 ],\n",
       "       [0.5920659 ],\n",
       "       [0.52403575],\n",
       "       [0.58323896],\n",
       "       [0.47180435],\n",
       "       [0.5643773 ],\n",
       "       [0.46109408],\n",
       "       [0.46677783],\n",
       "       [0.49569625],\n",
       "       [0.5326373 ],\n",
       "       [0.5186207 ],\n",
       "       [0.38454628],\n",
       "       [0.50388426],\n",
       "       [0.6480329 ],\n",
       "       [0.7924195 ],\n",
       "       [0.57852083],\n",
       "       [0.40999976],\n",
       "       [0.59402424],\n",
       "       [0.5784619 ],\n",
       "       [0.6334028 ],\n",
       "       [0.4213486 ],\n",
       "       [0.5544078 ],\n",
       "       [0.41837254],\n",
       "       [0.37692308],\n",
       "       [0.4818282 ],\n",
       "       [0.40835515],\n",
       "       [0.42599759],\n",
       "       [0.40017918],\n",
       "       [0.7513261 ],\n",
       "       [0.33135408],\n",
       "       [0.6013723 ],\n",
       "       [0.53763914],\n",
       "       [0.63428986],\n",
       "       [0.59773654],\n",
       "       [0.48881772],\n",
       "       [0.5991677 ],\n",
       "       [0.4553464 ],\n",
       "       [0.37194598],\n",
       "       [0.33240792],\n",
       "       [0.49153218],\n",
       "       [0.51139337],\n",
       "       [0.6754895 ],\n",
       "       [0.51142853],\n",
       "       [0.6601026 ],\n",
       "       [0.6466042 ],\n",
       "       [0.4757613 ],\n",
       "       [0.6019605 ],\n",
       "       [0.7345896 ],\n",
       "       [0.60136914],\n",
       "       [0.36299405],\n",
       "       [0.45097783],\n",
       "       [0.4547294 ],\n",
       "       [0.42335773],\n",
       "       [0.574933  ],\n",
       "       [0.33099213],\n",
       "       [0.51331025],\n",
       "       [0.58590776],\n",
       "       [0.71215856],\n",
       "       [0.6161667 ],\n",
       "       [0.5179086 ],\n",
       "       [0.64337134],\n",
       "       [0.49529797],\n",
       "       [0.5029617 ],\n",
       "       [0.39988396],\n",
       "       [0.53515226],\n",
       "       [0.5794068 ],\n",
       "       [0.6737817 ],\n",
       "       [0.3030881 ],\n",
       "       [0.32720473],\n",
       "       [0.46372223],\n",
       "       [0.5108124 ],\n",
       "       [0.42768034],\n",
       "       [0.5039737 ],\n",
       "       [0.50072026],\n",
       "       [0.6162513 ],\n",
       "       [0.7400382 ],\n",
       "       [0.7228174 ],\n",
       "       [0.7018852 ],\n",
       "       [0.59208727],\n",
       "       [0.2554194 ],\n",
       "       [0.5306372 ],\n",
       "       [0.4847604 ],\n",
       "       [0.6513925 ],\n",
       "       [0.58117694],\n",
       "       [0.51615626],\n",
       "       [0.6628019 ],\n",
       "       [0.60236895],\n",
       "       [0.63138264],\n",
       "       [0.4357487 ],\n",
       "       [0.5175351 ],\n",
       "       [0.6063681 ],\n",
       "       [0.48261258],\n",
       "       [0.51787263],\n",
       "       [0.40345797],\n",
       "       [0.5264611 ],\n",
       "       [0.8498011 ],\n",
       "       [0.36182284],\n",
       "       [0.7205179 ],\n",
       "       [0.48345926],\n",
       "       [0.48332983],\n",
       "       [0.3686614 ],\n",
       "       [0.53564864],\n",
       "       [0.6136786 ],\n",
       "       [0.5997965 ],\n",
       "       [0.47343513],\n",
       "       [0.4940767 ],\n",
       "       [0.6482386 ],\n",
       "       [0.5401112 ],\n",
       "       [0.52249575],\n",
       "       [0.53683656],\n",
       "       [0.36606604],\n",
       "       [0.3828614 ],\n",
       "       [0.6742396 ],\n",
       "       [0.7111925 ],\n",
       "       [0.5161324 ],\n",
       "       [0.40323293],\n",
       "       [0.4907266 ],\n",
       "       [0.6272369 ],\n",
       "       [0.6641679 ],\n",
       "       [0.5711766 ],\n",
       "       [0.6196633 ],\n",
       "       [0.52528244],\n",
       "       [0.46029684],\n",
       "       [0.5319541 ],\n",
       "       [0.49437776],\n",
       "       [0.56957716],\n",
       "       [0.5983745 ],\n",
       "       [0.5087704 ],\n",
       "       [0.4567182 ],\n",
       "       [0.5774358 ],\n",
       "       [0.5186214 ],\n",
       "       [0.6700789 ],\n",
       "       [0.6909271 ],\n",
       "       [0.52165717],\n",
       "       [0.5299084 ],\n",
       "       [0.47967404],\n",
       "       [0.36305827],\n",
       "       [0.49153414],\n",
       "       [0.568024  ],\n",
       "       [0.45017067],\n",
       "       [0.6642637 ],\n",
       "       [0.5770313 ],\n",
       "       [0.4806974 ],\n",
       "       [0.5090259 ],\n",
       "       [0.6001382 ],\n",
       "       [0.48001456],\n",
       "       [0.58199424],\n",
       "       [0.45247415],\n",
       "       [0.53352505],\n",
       "       [0.7344604 ],\n",
       "       [0.48543313],\n",
       "       [0.58521986],\n",
       "       [0.567462  ],\n",
       "       [0.691321  ],\n",
       "       [0.30857205],\n",
       "       [0.40453908]], dtype=float32)"
      ]
     },
     "execution_count": 19,
     "metadata": {},
     "output_type": "execute_result"
    }
   ],
   "source": [
    "predictions"
   ]
  },
  {
   "cell_type": "code",
   "execution_count": null,
   "metadata": {},
   "outputs": [],
   "source": [
    "import numpy as np\n",
    "np.set_printoptions(formatter={'float_kind':'{:f}'.format})"
   ]
  },
  {
   "cell_type": "code",
   "execution_count": null,
   "metadata": {},
   "outputs": [],
   "source": [
    "newpredictions =  np.rint(predictions)"
   ]
  },
  {
   "cell_type": "code",
   "execution_count": null,
   "metadata": {},
   "outputs": [],
   "source": [
    "newpredictions"
   ]
  }
 ],
 "metadata": {
  "kernelspec": {
   "display_name": "Python 3",
   "language": "python",
   "name": "python3"
  },
  "language_info": {
   "codemirror_mode": {
    "name": "ipython",
    "version": 3
   },
   "file_extension": ".py",
   "mimetype": "text/x-python",
   "name": "python",
   "nbconvert_exporter": "python",
   "pygments_lexer": "ipython3",
   "version": "3.7.7"
  }
 },
 "nbformat": 4,
 "nbformat_minor": 4
}
