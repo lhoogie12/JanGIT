{
 "cells": [
  {
   "cell_type": "markdown",
   "metadata": {},
   "source": [
    "# Intro to Conditional Statement\n",
    "\n",
    "Dewpoint is the measure of water saturation in the air.\n"
   ]
  },
  {
   "cell_type": "code",
   "execution_count": 9,
   "metadata": {},
   "outputs": [
    {
     "name": "stdout",
     "output_type": "stream",
     "text": [
      "Enter your temperature: 54\n",
      "Enter your dewpoint: 60\n",
      "The temperature is ideal\n"
     ]
    }
   ],
   "source": [
    "# If statement\n",
    "\n",
    "temp = int(input(\"Enter your temperature: \"))\n",
    "dewpoint = int(input(\"Enter your dewpoint: \"))\n",
    "if temp > 75 and dewpoint > 65:\n",
    "    print(\"It is too warm and humid\")\n",
    "elif temp > 75 and dewpoint <= 65:\n",
    "    print(\"The temperature is too warm\")\n",
    "else:\n",
    "    print(\"The temperature is ideal\")"
   ]
  },
  {
   "cell_type": "code",
   "execution_count": 18,
   "metadata": {},
   "outputs": [
    {
     "name": "stdout",
     "output_type": "stream",
     "text": [
      "Enter latitude: -100\n",
      "Latitude is Outside Tropics\n",
      "Number is out of bounds\n"
     ]
    }
   ],
   "source": [
    "latitude = int(input(\"Enter latitude: \"))\n",
    "if latitude > 23.5 or latitude < -23.5:\n",
    "    print(\"Latitude is Outside Tropics\")\n",
    "if latitude < 23.5 and latitude > -23.5:\n",
    "    print(\"Latitude is inside Tropics\")    \n",
    "if latitude > 90 or latitude < -90:\n",
    "    print(\"Number is out of bounds\")\n"
   ]
  },
  {
   "cell_type": "markdown",
   "metadata": {},
   "source": [
    "# Functions"
   ]
  },
  {
   "cell_type": "code",
   "execution_count": 21,
   "metadata": {},
   "outputs": [],
   "source": [
    "def name():\n",
    "    name = input(\"Enter your first name: \")\n",
    "    print(\"Hi! My name is {}. It is nice to meet you!\".format(name))"
   ]
  },
  {
   "cell_type": "code",
   "execution_count": 22,
   "metadata": {},
   "outputs": [
    {
     "name": "stdout",
     "output_type": "stream",
     "text": [
      "Enter your first name: Jan\n",
      "Hi! My name is Jan. It is nice to meet you!\n"
     ]
    }
   ],
   "source": [
    "name()"
   ]
  },
  {
   "cell_type": "code",
   "execution_count": 32,
   "metadata": {},
   "outputs": [],
   "source": [
    "\n",
    "def dd(degree, minute, second, direction):\n",
    "    return direction * (degree, + (minute + second/60.)/60.)"
   ]
  },
  {
   "cell_type": "code",
   "execution_count": 33,
   "metadata": {},
   "outputs": [
    {
     "data": {
      "text/plain": [
       "(34, 0.30785555555555555)"
      ]
     },
     "execution_count": 33,
     "metadata": {},
     "output_type": "execute_result"
    }
   ],
   "source": [
    "dd(34,18,28.28,1)"
   ]
  },
  {
   "cell_type": "code",
   "execution_count": 1,
   "metadata": {},
   "outputs": [],
   "source": [
    "def createlist():\n",
    "    templist = []\n",
    "    condition = True\n",
    "    while condition:\n",
    "        templist.append(float(input(\"Enter a temperature\")))\n",
    "        quit = input(\"Would you like to continue? (Y or N)\")\n",
    "        if quit == \"N\" or quit == \"n\":\n",
    "            condition = False\n",
    "    return templist"
   ]
  },
  {
   "cell_type": "code",
   "execution_count": 4,
   "metadata": {},
   "outputs": [
    {
     "name": "stdout",
     "output_type": "stream",
     "text": [
      "Enter a temperature44\n",
      "Would you like to continue? (Y or N)y\n"
     ]
    }
   ],
   "source": [
    "mylist = createlist()"
   ]
  },
  {
   "cell_type": "code",
   "execution_count": 5,
   "metadata": {},
   "outputs": [],
   "source": [
    "def fromfahrenheit(value):\n",
    "    return(value-32) / 1.8"
   ]
  },
  {
   "cell_type": "code",
   "execution_count": 6,
   "metadata": {},
   "outputs": [
    {
     "data": {
      "text/plain": [
       "0.0"
      ]
     },
     "execution_count": 6,
     "metadata": {},
     "output_type": "execute_result"
    }
   ],
   "source": [
    "fromfahrenheit(32)"
   ]
  },
  {
   "cell_type": "code",
   "execution_count": 7,
   "metadata": {},
   "outputs": [
    {
     "name": "stdout",
     "output_type": "stream",
     "text": [
      "My module is running\n"
     ]
    }
   ],
   "source": [
    "import tempconverter"
   ]
  },
  {
   "cell_type": "code",
   "execution_count": 8,
   "metadata": {},
   "outputs": [
    {
     "name": "stdout",
     "output_type": "stream",
     "text": [
      "Enter the temp you want converted to degrees fahrenheit: 0\n",
      "<class 'float'>\n"
     ]
    }
   ],
   "source": [
    "ftemp = tempconverter.fromcelcius()"
   ]
  },
  {
   "cell_type": "code",
   "execution_count": 9,
   "metadata": {},
   "outputs": [
    {
     "data": {
      "text/plain": [
       "32.0"
      ]
     },
     "execution_count": 9,
     "metadata": {},
     "output_type": "execute_result"
    }
   ],
   "source": [
    "ftemp"
   ]
  },
  {
   "cell_type": "code",
   "execution_count": null,
   "metadata": {},
   "outputs": [],
   "source": []
  }
 ],
 "metadata": {
  "kernelspec": {
   "display_name": "Python 3",
   "language": "python",
   "name": "python3"
  },
  "language_info": {
   "codemirror_mode": {
    "name": "ipython",
    "version": 3
   },
   "file_extension": ".py",
   "mimetype": "text/x-python",
   "name": "python",
   "nbconvert_exporter": "python",
   "pygments_lexer": "ipython3",
   "version": "3.7.4"
  }
 },
 "nbformat": 4,
 "nbformat_minor": 2
}
