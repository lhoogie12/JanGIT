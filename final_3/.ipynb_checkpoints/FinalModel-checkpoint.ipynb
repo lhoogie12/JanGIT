{
 "cells": [
  {
   "cell_type": "code",
   "execution_count": null,
   "metadata": {},
   "outputs": [],
   "source": [
    "import os\n",
    "os.getcwd()  # Get Working Directory"
   ]
  },
  {
   "cell_type": "code",
   "execution_count": 2,
   "metadata": {},
   "outputs": [
    {
     "name": "stderr",
     "output_type": "stream",
     "text": [
      "Using TensorFlow backend.\n"
     ]
    },
    {
     "name": "stdout",
     "output_type": "stream",
     "text": [
      "Wall time: 4.16 s\n"
     ]
    }
   ],
   "source": [
    "%%time\n",
    "import os\n",
    "os.environ['KERAS_BACKEND'] = 'tensorflow'\n",
    "import keras"
   ]
  },
  {
   "cell_type": "code",
   "execution_count": 3,
   "metadata": {},
   "outputs": [],
   "source": [
    "from keras.preprocessing.image import ImageDataGenerator\n",
    "from keras.models import Sequential\n",
    "from keras.layers import Conv2D, MaxPooling2D\n",
    "from keras.layers import Activation, Dropout, Flatten, Dense\n",
    "from keras import backend as K"
   ]
  },
  {
   "cell_type": "code",
   "execution_count": 4,
   "metadata": {},
   "outputs": [],
   "source": [
    "# dimensions of our images.\n",
    "img_width, img_height = 150, 150"
   ]
  },
  {
   "cell_type": "code",
   "execution_count": 29,
   "metadata": {},
   "outputs": [],
   "source": [
    "\n",
    "train_data_dir = 'data/train'\n",
    "validation_data_dir = 'data/validation'\n",
    "nb_train_samples = 413\n",
    "nb_validation_samples = 100\n",
    "epochs = 20\n",
    "batch_size = 40"
   ]
  },
  {
   "cell_type": "code",
   "execution_count": 6,
   "metadata": {},
   "outputs": [],
   "source": [
    "if K.image_data_format() == 'channels_first':\n",
    "    input_shape = (3, img_width, img_height)\n",
    "else:\n",
    "    input_shape = (img_width, img_height, 3)"
   ]
  },
  {
   "cell_type": "code",
   "execution_count": 7,
   "metadata": {},
   "outputs": [],
   "source": [
    "train_datagen = ImageDataGenerator(\n",
    "    rescale=1. / 255)"
   ]
  },
  {
   "cell_type": "code",
   "execution_count": 8,
   "metadata": {},
   "outputs": [],
   "source": [
    "test_datagen = ImageDataGenerator(rescale=1. / 255)"
   ]
  },
  {
   "cell_type": "code",
   "execution_count": 9,
   "metadata": {},
   "outputs": [
    {
     "name": "stdout",
     "output_type": "stream",
     "text": [
      "Found 826 images belonging to 2 classes.\n"
     ]
    }
   ],
   "source": [
    "training = train_datagen.flow_from_directory(\n",
    "    train_data_dir,\n",
    "    target_size=(img_width, img_height),\n",
    "    batch_size=batch_size,\n",
    "    class_mode='binary')\n",
    "x,y = training.next()"
   ]
  },
  {
   "cell_type": "code",
   "execution_count": 10,
   "metadata": {},
   "outputs": [
    {
     "data": {
      "text/plain": [
       "array([0., 0., 0., 0., 1., 1., 0., 1., 0., 0., 0., 1., 1., 1., 0., 1., 0.,\n",
       "       0., 0., 0.], dtype=float32)"
      ]
     },
     "execution_count": 10,
     "metadata": {},
     "output_type": "execute_result"
    }
   ],
   "source": [
    "y"
   ]
  },
  {
   "cell_type": "code",
   "execution_count": 11,
   "metadata": {},
   "outputs": [
    {
     "name": "stdout",
     "output_type": "stream",
     "text": [
      "Found 200 images belonging to 2 classes.\n"
     ]
    }
   ],
   "source": [
    "validation = test_datagen.flow_from_directory(\n",
    "    validation_data_dir,\n",
    "    target_size=(img_width, img_height),\n",
    "    batch_size=batch_size,\n",
    "    class_mode='binary')\n",
    "\n",
    "x,y = validation.next()"
   ]
  },
  {
   "cell_type": "code",
   "execution_count": 12,
   "metadata": {},
   "outputs": [
    {
     "data": {
      "text/plain": [
       "array([0., 1., 1., 0., 1., 1., 0., 0., 1., 1., 0., 0., 0., 0., 0., 1., 1.,\n",
       "       1., 0., 1.], dtype=float32)"
      ]
     },
     "execution_count": 12,
     "metadata": {},
     "output_type": "execute_result"
    }
   ],
   "source": [
    "y"
   ]
  },
  {
   "cell_type": "code",
   "execution_count": 34,
   "metadata": {},
   "outputs": [],
   "source": [
    "model = Sequential()\n",
    "model.add(Conv2D(16, (3, 3), input_shape=input_shape))\n",
    "model.add(Activation('relu'))\n",
    "model.add(MaxPooling2D(pool_size=(2, 2)))\n",
    "model.add(Dropout(0.2))\n",
    "#model.add(Conv2D(32, (3, 3)))\n",
    "#model.add(Activation('relu'))\n",
    "#model.add(MaxPooling2D(pool_size=(2, 2)))\n",
    "\n",
    "#model.add(Conv2D(64, (3, 3)))\n",
    "#model.add(Activation('relu'))\n",
    "#model.add(MaxPooling2D(pool_size=(2, 2)))\n",
    "\n",
    "model.add(Flatten())\n",
    "model.add(Dense(64))\n",
    "model.add(Activation('relu'))\n",
    "model.add(Dense(1))\n",
    "model.add(Activation('sigmoid'))"
   ]
  },
  {
   "cell_type": "code",
   "execution_count": 35,
   "metadata": {},
   "outputs": [],
   "source": [
    "model.compile(loss='binary_crossentropy',\n",
    "              optimizer='sgd',\n",
    "              metrics=['accuracy'])"
   ]
  },
  {
   "cell_type": "code",
   "execution_count": 36,
   "metadata": {},
   "outputs": [
    {
     "name": "stdout",
     "output_type": "stream",
     "text": [
      "Epoch 1/20\n",
      "10/10 [==============================] - 18s 2s/step - loss: 0.7061 - accuracy: 0.4086 - val_loss: 0.6935 - val_accuracy: 0.4750\n",
      "Epoch 2/20\n",
      "10/10 [==============================] - 18s 2s/step - loss: 0.6938 - accuracy: 0.4950 - val_loss: 0.6881 - val_accuracy: 0.6000\n",
      "Epoch 3/20\n",
      "10/10 [==============================] - 18s 2s/step - loss: 0.6971 - accuracy: 0.4500 - val_loss: 0.6876 - val_accuracy: 0.5750\n",
      "Epoch 4/20\n",
      "10/10 [==============================] - 18s 2s/step - loss: 0.6928 - accuracy: 0.5150 - val_loss: 0.6857 - val_accuracy: 0.5750\n",
      "Epoch 5/20\n",
      "10/10 [==============================] - 18s 2s/step - loss: 0.6906 - accuracy: 0.5750 - val_loss: 0.6954 - val_accuracy: 0.6000\n",
      "Epoch 6/20\n",
      "10/10 [==============================] - 18s 2s/step - loss: 0.6898 - accuracy: 0.5450 - val_loss: 0.6879 - val_accuracy: 0.4250\n",
      "Epoch 7/20\n",
      "10/10 [==============================] - 17s 2s/step - loss: 0.6859 - accuracy: 0.5591 - val_loss: 0.7146 - val_accuracy: 0.3250\n",
      "Epoch 8/20\n",
      "10/10 [==============================] - 18s 2s/step - loss: 0.6872 - accuracy: 0.5600 - val_loss: 0.6811 - val_accuracy: 0.5250\n",
      "Epoch 9/20\n",
      "10/10 [==============================] - 19s 2s/step - loss: 0.6833 - accuracy: 0.5650 - val_loss: 0.6846 - val_accuracy: 0.5750\n",
      "Epoch 10/20\n",
      "10/10 [==============================] - 18s 2s/step - loss: 0.6804 - accuracy: 0.5600 - val_loss: 0.6843 - val_accuracy: 0.5000\n",
      "Epoch 11/20\n",
      "10/10 [==============================] - 17s 2s/step - loss: 0.6842 - accuracy: 0.5699 - val_loss: 0.6785 - val_accuracy: 0.6250\n",
      "Epoch 12/20\n",
      "10/10 [==============================] - 24s 2s/step - loss: 0.6756 - accuracy: 0.6000 - val_loss: 0.6707 - val_accuracy: 0.6250\n",
      "Epoch 13/20\n",
      "10/10 [==============================] - 23s 2s/step - loss: 0.6767 - accuracy: 0.6000 - val_loss: 0.6804 - val_accuracy: 0.6750\n",
      "Epoch 14/20\n",
      "10/10 [==============================] - 21s 2s/step - loss: 0.6742 - accuracy: 0.6050 - val_loss: 0.6804 - val_accuracy: 0.6000\n",
      "Epoch 15/20\n",
      "10/10 [==============================] - 20s 2s/step - loss: 0.6752 - accuracy: 0.5750 - val_loss: 0.6360 - val_accuracy: 0.6500\n",
      "Epoch 16/20\n",
      "10/10 [==============================] - 20s 2s/step - loss: 0.6602 - accuracy: 0.6150 - val_loss: 0.6570 - val_accuracy: 0.7250\n",
      "Epoch 17/20\n",
      "10/10 [==============================] - 18s 2s/step - loss: 0.6741 - accuracy: 0.6237 - val_loss: 0.6632 - val_accuracy: 0.6750\n",
      "Epoch 18/20\n",
      "10/10 [==============================] - 18s 2s/step - loss: 0.6457 - accuracy: 0.7043 - val_loss: 0.6452 - val_accuracy: 0.5750\n",
      "Epoch 19/20\n",
      "10/10 [==============================] - 19s 2s/step - loss: 0.6748 - accuracy: 0.6050 - val_loss: 0.6438 - val_accuracy: 0.7000\n",
      "Epoch 20/20\n",
      "10/10 [==============================] - 19s 2s/step - loss: 0.6599 - accuracy: 0.6150 - val_loss: 0.6832 - val_accuracy: 0.6000\n"
     ]
    }
   ],
   "source": [
    "history = model.fit_generator(\n",
    "    training,\n",
    "    steps_per_epoch=nb_train_samples // batch_size,\n",
    "    epochs=epochs,\n",
    "    validation_data=validation,\n",
    "    validation_steps=nb_validation_samples // batch_size)"
   ]
  },
  {
   "cell_type": "code",
   "execution_count": 37,
   "metadata": {},
   "outputs": [
    {
     "data": {
      "image/png": "[encoded data removed]",
      "text/plain": [
       "<Figure size 432x288 with 1 Axes>"
      ]
     },
     "metadata": {
      "needs_background": "light"
     },
     "output_type": "display_data"
    }
   ],
   "source": [
    "import matplotlib.pyplot as plt\n",
    "\n",
    "plt.plot(history.history['accuracy'])\n",
    "plt.plot(history.history['val_accuracy'])\n",
    "plt.title('Model accuracy')\n",
    "plt.ylabel('Accuracy')\n",
    "plt.xlabel('Epoch')\n",
    "plt.legend(['Train', 'Validate'], loc='upper left')\n",
    "plt.show()"
   ]
  },
  {
   "cell_type": "code",
   "execution_count": null,
   "metadata": {},
   "outputs": [],
   "source": [
    "predictions = model.predict(validation)"
   ]
  },
  {
   "cell_type": "code",
   "execution_count": null,
   "metadata": {},
   "outputs": [],
   "source": [
    "predictions"
   ]
  },
  {
   "cell_type": "code",
   "execution_count": null,
   "metadata": {},
   "outputs": [],
   "source": [
    "import numpy as np\n",
    "np.set_printoptions(formatter={'float_kind':'{:f}'.format})"
   ]
  },
  {
   "cell_type": "code",
   "execution_count": null,
   "metadata": {},
   "outputs": [],
   "source": [
    "newpredictions =  np.rint(predictions)"
   ]
  },
  {
   "cell_type": "code",
   "execution_count": null,
   "metadata": {},
   "outputs": [],
   "source": [
    "newpredictions"
   ]
  }
 ],
 "metadata": {
  "kernelspec": {
   "display_name": "Python 3",
   "language": "python",
   "name": "python3"
  },
  "language_info": {
   "codemirror_mode": {
    "name": "ipython",
    "version": 3
   },
   "file_extension": ".py",
   "mimetype": "text/x-python",
   "name": "python",
   "nbconvert_exporter": "python",
   "pygments_lexer": "ipython3",
   "version": "3.7.7"
  }
 },
 "nbformat": 4,
 "nbformat_minor": 4
}
