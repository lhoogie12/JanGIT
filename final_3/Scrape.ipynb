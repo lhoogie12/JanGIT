{
 "cells": [
  {
   "cell_type": "code",
   "execution_count": 1,
   "metadata": {},
   "outputs": [
    {
     "ename": "ModuleNotFoundError",
     "evalue": "No module named 'cv2'",
     "output_type": "error",
     "traceback": [
      "\u001b[1;31m---------------------------------------------------------------------------\u001b[0m",
      "\u001b[1;31mModuleNotFoundError\u001b[0m                       Traceback (most recent call last)",
      "\u001b[1;32m<ipython-input-1-5da846dae017>\u001b[0m in \u001b[0;36m<module>\u001b[1;34m\u001b[0m\n\u001b[0;32m      1\u001b[0m \u001b[1;32mimport\u001b[0m \u001b[0mrequests\u001b[0m\u001b[1;33m\u001b[0m\u001b[1;33m\u001b[0m\u001b[0m\n\u001b[1;32m----> 2\u001b[1;33m \u001b[1;32mimport\u001b[0m \u001b[0mcv2\u001b[0m\u001b[1;33m\u001b[0m\u001b[1;33m\u001b[0m\u001b[0m\n\u001b[0m\u001b[0;32m      3\u001b[0m \u001b[1;32mimport\u001b[0m \u001b[0mos\u001b[0m\u001b[1;33m\u001b[0m\u001b[1;33m\u001b[0m\u001b[0m\n\u001b[0;32m      4\u001b[0m \u001b[1;32mfrom\u001b[0m \u001b[0mimutils\u001b[0m \u001b[1;32mimport\u001b[0m \u001b[0mpaths\u001b[0m\u001b[1;33m\u001b[0m\u001b[1;33m\u001b[0m\u001b[0m\n",
      "\u001b[1;31mModuleNotFoundError\u001b[0m: No module named 'cv2'"
     ]
    }
   ],
   "source": [
    "import requests\n",
    "import cv2\n",
    "import os\n",
    "from imutils import paths"
   ]
  },
  {
   "cell_type": "code",
   "execution_count": null,
   "metadata": {},
   "outputs": [],
   "source": [
    "os.getcwd()"
   ]
  },
  {
   "cell_type": "code",
   "execution_count": null,
   "metadata": {},
   "outputs": [],
   "source": [
    "os.chdir('C:\\\\Users\\\\Jan\\\\Downloads\\\\')  #Change Directory"
   ]
  },
  {
   "cell_type": "code",
   "execution_count": null,
   "metadata": {},
   "outputs": [],
   "source": [
    "alligator = 'imagesalligator'\n",
    "elephant = 'imageselephant'\n",
    "\n",
    "\n",
    "url_path = open('download').read().strip().split('\\n')\n",
    "total = 0\n",
    "\n",
    "if os.path.exists('images'):\n",
    "    os.mkdir(alligator)\n",
    "image_path = alligator\n",
    " \n",
    "for url in url_path:\n",
    "    try:\n",
    "        req = requests.get(url, timeout=60)\n",
    " \n",
    "        file_path = os.path.sep.join([image_path, '{}.jpg'.format(\n",
    "            str(total).zfill(6))]\n",
    "        )\n",
    "        file = open(file_path, 'wb')\n",
    "        file.write(req.content)\n",
    "        file.close()\n",
    " \n",
    "        print('Downloaded {}'.format(file_path))\n",
    "        total += 1\n",
    " \n",
    "    except:\n",
    "        print('Could not download {}. Downloading next file'.format(file_path))"
   ]
  },
  {
   "cell_type": "code",
   "execution_count": null,
   "metadata": {},
   "outputs": [],
   "source": [
    "for imagePath in paths.list_images(alligator):\n",
    "    delete_image = False\n",
    " \n",
    "    try:\n",
    "        image = cv2.imread(imagePath)\n",
    " \n",
    "        if image is None:\n",
    "            delete_image = True\n",
    " \n",
    "    # if OpenCV cannot load the image\n",
    "    except:\n",
    "        delete_image = True\n",
    " \n",
    "    if delete_image:\n",
    "        print('Deleting {}'.format(imagePath))\n",
    "        os.remove(imagePath)\n",
    " "
   ]
  },
  {
   "cell_type": "code",
   "execution_count": null,
   "metadata": {},
   "outputs": [],
   "source": [
    "for imagePath in paths.list_images(alligator):\n",
    "    image = cv2.imread(imagePath)\n",
    "    print('Original Dimensions : ',image.shape)\n",
    "    path = 'C:/Users/Laptop/DroneCourse/ENVS333/DeepLearn/final/data/train/elephant/'\n",
    "    width = 150\n",
    "    height = 150\n",
    "    dim = (width, height)\n",
    "    # resize image\n",
    "    resized = cv2.resize(image, dim, interpolation = cv2.INTER_AREA)\n",
    "    print('Resized Dimensions : ',resized.shape)\n",
    "    print(imagePath[-10:])\n",
    "    cv2.imwrite(os.path.join(path ,'Eimage_{}'.format(imagePath[-10:]) ), resized)\n",
    "    cv2.waitKey(0)\n",
    " "
   ]
  }
 ],
 "metadata": {
  "kernelspec": {
   "display_name": "Python 3",
   "language": "python",
   "name": "python3"
  },
  "language_info": {
   "codemirror_mode": {
    "name": "ipython",
    "version": 3
   },
   "file_extension": ".py",
   "mimetype": "text/x-python",
   "name": "python",
   "nbconvert_exporter": "python",
   "pygments_lexer": "ipython3",
   "version": "3.7.7"
  }
 },
 "nbformat": 4,
 "nbformat_minor": 4
}
