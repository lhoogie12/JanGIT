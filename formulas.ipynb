{
 "cells": [
  {
   "cell_type": "markdown",
   "metadata": {},
   "source": [
    "# Basic Duties\n",
    "AI: Perceptron --> Read WIki\n",
    "    - Very first AI engine\n",
    "    - How does an inanimate object like a computer LEARN?\n",
    "        - Changes parameters used in formulae\n",
    "\n",
    "## Math We Need\n",
    "### Terminology\n",
    "    Thing: Physical Measurement with dimension\n",
    "    Long Track Distance: Span\n",
    "    Cross Track Distance: Breadth\n",
    "    Nadir Point: Point directly below the camera on the ground. Center of the image.\n",
    "    Overlap allows for ortho imagery\n",
    "    Track Overlap: Proportion from 0-1\n",
    "        Overlap: V<sub>span</sub> = 0.80\n",
    "               : V<sub>breadth</sub> = 0.50\n",
    "    \n",
    "    Two Ways to Measure:\n",
    "        Sensor Span: physical distance in cm.\n",
    "        Sensor breadth: cm\n",
    "        Image breadth: pixels\n",
    "        Image span: pixels\n",
    "        \n",
    "    Focal Length of Camera: Distance from sensor to camera lens\n",
    "    \n",
    "    Height of flight: H_f\n",
    "    Focal Length: f (check units)\n",
    "    MKS: METERS/KG/SECONDS\n",
    "    Sensor Span: Sen_sp\n",
    "    Sensor Breadth: Sen_br\n",
    "    \n",
    "   "
   ]
  },
  {
   "cell_type": "markdown",
   "metadata": {},
   "source": [
    "%Ground Span = Sen_sp * (H_fl/f)           (Sen_sp/f) = (Grd_sp/H-fl)\n",
    "\n",
    "Ground Breadth = Sun_br * (H_fl/f)\n",
    "\n",
    "GSD = (Ground/Pixels)\n",
    "\n",
    "GSD span = (Grd_sp/Image span) = (Sen_sp/Image_sp)*(H_f/f)\n",
    "\n",
    "\n"
   ]
  },
  {
   "cell_type": "code",
   "execution_count": 19,
   "metadata": {},
   "outputs": [],
   "source": [
    "def flight_data():\n",
    "    H_fl_m = float(input(\"Enter Flight Height meters: \"))\n",
    "    H_fl = (H_fl_m/100) #Converts meters to centimeters\n",
    "    f = float(input(\"Enter Focal Lenth in cm: \"))\n",
    "    Sen_sp = float(input(\"Enter Sensor Span in cm: \"))\n",
    "    Sen_br = float(input(\"Enter Sensor Breadth in cm: \"))\n",
    "    Img_sp = int(input(\"Enter Image Span in pixels: \"))\n",
    "    Img_br = int(input(\"Enter Image Breadth in pixels: \"))\n",
    "    \n",
    "    Grd_sp = (Sen_sp*(H_fl/f))*100 #converts back to meters\n",
    "\n",
    "    Grd_br = (Sen_br*(H_fl/f))*100 #converts back to meters\n",
    "\n",
    "    Gsd_sp = (Grd_sp/Img_sp)*100 #converts to cm\n",
    "\n",
    "    Gsd_br = (Grd_br/Img_br)*100 #converts to cm\n",
    " \n",
    "    \n",
    "    from tabulate import tabulate\n",
    "    print(tabulate([['Ground_span (m)', Grd_sp], ['Ground_breadth (m)', Grd_br],['Ground Sampling Distance Sapan (cm)', Gsd_sp],['Ground Sampling Distance Breadth (cm)',Gsd_br]], headers=['Calculation', 'Value'],tablefmt='fancy_grid'))   \n",
    "    "
   ]
  },
  {
   "cell_type": "code",
   "execution_count": 20,
   "metadata": {},
   "outputs": [
    {
     "name": "stdout",
     "output_type": "stream",
     "text": [
      "Enter Flight Height meters: 1\n",
      "Enter Focal Lenth in cm: 2\n",
      "Enter Sensor Span in cm: 3\n",
      "Enter Sensor Breadth in cm: 4\n",
      "Enter Image Span in pixels: 5\n",
      "Enter Image Breadth in pixels: 6\n",
      "╒═══════════════════════════════════════╤═════════╕\n",
      "│ Calculation                           │   Value │\n",
      "╞═══════════════════════════════════════╪═════════╡\n",
      "│ Ground_span (m)                       │  1.5    │\n",
      "├───────────────────────────────────────┼─────────┤\n",
      "│ Ground_breadth (m)                    │  2      │\n",
      "├───────────────────────────────────────┼─────────┤\n",
      "│ Ground Sampling Distance Sapan (cm)   │ 30      │\n",
      "├───────────────────────────────────────┼─────────┤\n",
      "│ Ground Sampling Distance Breadth (cm) │ 33.3333 │\n",
      "╘═══════════════════════════════════════╧═════════╛\n"
     ]
    }
   ],
   "source": [
    "flight_data()"
   ]
  },
  {
   "cell_type": "markdown",
   "metadata": {},
   "source": []
  }
 ],
 "metadata": {
  "kernelspec": {
   "display_name": "Python 3",
   "language": "python",
   "name": "python3"
  },
  "language_info": {
   "codemirror_mode": {
    "name": "ipython",
    "version": 3
   },
   "file_extension": ".py",
   "mimetype": "text/x-python",
   "name": "python",
   "nbconvert_exporter": "python",
   "pygments_lexer": "ipython3",
   "version": "3.7.4"
  }
 },
 "nbformat": 4,
 "nbformat_minor": 2
}
